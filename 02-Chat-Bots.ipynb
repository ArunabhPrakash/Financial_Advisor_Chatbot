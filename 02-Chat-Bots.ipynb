{
 "cells": [
  {
   "cell_type": "markdown",
   "metadata": {},
   "source": [
    "___\n",
    "\n",
    "<a href='http://www.pieriandata.com'> <img src='../Pierian_Data_Logo.png' /></a>\n",
    "___\n",
    "# Question and Answer Chat Bots"
   ]
  },
  {
   "cell_type": "markdown",
   "metadata": {},
   "source": [
    "----\n",
    "\n",
    "------"
   ]
  },
  {
   "cell_type": "markdown",
   "metadata": {},
   "source": [
    "## Loading the Data\n",
    "\n",
    "We will be working with the Babi Data Set from Facebook Research.\n",
    "\n",
    "Full Details: https://research.fb.com/downloads/babi/\n",
    "\n",
    "- Jason Weston, Antoine Bordes, Sumit Chopra, Tomas Mikolov, Alexander M. Rush,\n",
    "  \"Towards AI-Complete Question Answering: A Set of Prerequisite Toy Tasks\",\n",
    "  http://arxiv.org/abs/1502.05698\n"
   ]
  },
  {
   "cell_type": "code",
   "execution_count": 3,
   "metadata": {},
   "outputs": [],
   "source": [
    "import pickle #Pickle in Python is primarily used in serializing and deserializing a Python object structure. In other words, it's the process of converting a Python object into a byte stream to store it in a file/database, maintain program state across sessions, or transport data over the network.\n",
    "import numpy as np"
   ]
  },
  {
   "cell_type": "code",
   "execution_count": 4,
   "metadata": {},
   "outputs": [],
   "source": [
    "with open(\"train_qa.txt\", \"rb\") as fp:   # Unpickling\n",
    "    train_data =  pickle.load(fp)"
   ]
  },
  {
   "cell_type": "code",
   "execution_count": 5,
   "metadata": {},
   "outputs": [],
   "source": [
    "with open(\"test_qa.txt\", \"rb\") as fp:   # Unpickling\n",
    "    test_data =  pickle.load(fp)"
   ]
  },
  {
   "cell_type": "markdown",
   "metadata": {},
   "source": [
    "----"
   ]
  },
  {
   "cell_type": "markdown",
   "metadata": {},
   "source": [
    "## Exploring the Format of the Data"
   ]
  },
  {
   "cell_type": "code",
   "execution_count": 6,
   "metadata": {},
   "outputs": [
    {
     "data": {
      "text/plain": [
       "list"
      ]
     },
     "execution_count": 6,
     "metadata": {},
     "output_type": "execute_result"
    }
   ],
   "source": [
    "type(test_data)"
   ]
  },
  {
   "cell_type": "code",
   "execution_count": 7,
   "metadata": {},
   "outputs": [
    {
     "data": {
      "text/plain": [
       "list"
      ]
     },
     "execution_count": 7,
     "metadata": {},
     "output_type": "execute_result"
    }
   ],
   "source": [
    "type(train_data)"
   ]
  },
  {
   "cell_type": "code",
   "execution_count": 8,
   "metadata": {},
   "outputs": [
    {
     "data": {
      "text/plain": [
       "1000"
      ]
     },
     "execution_count": 8,
     "metadata": {},
     "output_type": "execute_result"
    }
   ],
   "source": [
    "len(test_data)"
   ]
  },
  {
   "cell_type": "code",
   "execution_count": 9,
   "metadata": {},
   "outputs": [
    {
     "data": {
      "text/plain": [
       "10000"
      ]
     },
     "execution_count": 9,
     "metadata": {},
     "output_type": "execute_result"
    }
   ],
   "source": [
    "len(train_data)"
   ]
  },
  {
   "cell_type": "code",
   "execution_count": 10,
   "metadata": {},
   "outputs": [
    {
     "data": {
      "text/plain": [
       "(['Mary',\n",
       "  'moved',\n",
       "  'to',\n",
       "  'the',\n",
       "  'bathroom',\n",
       "  '.',\n",
       "  'Sandra',\n",
       "  'journeyed',\n",
       "  'to',\n",
       "  'the',\n",
       "  'bedroom',\n",
       "  '.'],\n",
       " ['Is', 'Sandra', 'in', 'the', 'hallway', '?'],\n",
       " 'no')"
      ]
     },
     "execution_count": 10,
     "metadata": {},
     "output_type": "execute_result"
    }
   ],
   "source": [
    "train_data[0]"
   ]
  },
  {
   "cell_type": "code",
   "execution_count": 11,
   "metadata": {},
   "outputs": [
    {
     "data": {
      "text/plain": [
       "'Mary moved to the bathroom . Sandra journeyed to the bedroom .'"
      ]
     },
     "execution_count": 11,
     "metadata": {},
     "output_type": "execute_result"
    }
   ],
   "source": [
    "' '.join(train_data[0][0])"
   ]
  },
  {
   "cell_type": "code",
   "execution_count": 12,
   "metadata": {},
   "outputs": [
    {
     "data": {
      "text/plain": [
       "'Is Sandra in the hallway ?'"
      ]
     },
     "execution_count": 12,
     "metadata": {},
     "output_type": "execute_result"
    }
   ],
   "source": [
    "' '.join(train_data[0][1])"
   ]
  },
  {
   "cell_type": "code",
   "execution_count": 13,
   "metadata": {},
   "outputs": [
    {
     "data": {
      "text/plain": [
       "'no'"
      ]
     },
     "execution_count": 13,
     "metadata": {},
     "output_type": "execute_result"
    }
   ],
   "source": [
    "train_data[0][2]"
   ]
  },
  {
   "cell_type": "markdown",
   "metadata": {},
   "source": [
    "-----\n",
    "\n",
    "## Setting up Vocabulary of All Words"
   ]
  },
  {
   "cell_type": "code",
   "execution_count": 14,
   "metadata": {},
   "outputs": [],
   "source": [
    "# Create a set that holds the vocab words\n",
    "vocab = set()"
   ]
  },
  {
   "cell_type": "code",
   "execution_count": 15,
   "metadata": {},
   "outputs": [],
   "source": [
    "all_data = test_data + train_data"
   ]
  },
  {
   "cell_type": "code",
   "execution_count": 16,
   "metadata": {},
   "outputs": [],
   "source": [
    "for story, question , answer in all_data:\n",
    "    # In case you don't know what a union of sets is:\n",
    "    # https://www.programiz.com/python-programming/methods/set/union\n",
    "    vocab = vocab.union(set(story)) #helps in adding unique words\n",
    "    vocab = vocab.union(set(question))"
   ]
  },
  {
   "cell_type": "code",
   "execution_count": 17,
   "metadata": {},
   "outputs": [],
   "source": [
    "vocab.add('no')\n",
    "vocab.add('yes')"
   ]
  },
  {
   "cell_type": "code",
   "execution_count": 18,
   "metadata": {},
   "outputs": [
    {
     "data": {
      "text/plain": [
       "{'.',\n",
       " '?',\n",
       " 'Daniel',\n",
       " 'Is',\n",
       " 'John',\n",
       " 'Mary',\n",
       " 'Sandra',\n",
       " 'apple',\n",
       " 'back',\n",
       " 'bathroom',\n",
       " 'bedroom',\n",
       " 'discarded',\n",
       " 'down',\n",
       " 'dropped',\n",
       " 'football',\n",
       " 'garden',\n",
       " 'got',\n",
       " 'grabbed',\n",
       " 'hallway',\n",
       " 'in',\n",
       " 'journeyed',\n",
       " 'kitchen',\n",
       " 'left',\n",
       " 'milk',\n",
       " 'moved',\n",
       " 'no',\n",
       " 'office',\n",
       " 'picked',\n",
       " 'put',\n",
       " 'the',\n",
       " 'there',\n",
       " 'to',\n",
       " 'took',\n",
       " 'travelled',\n",
       " 'up',\n",
       " 'went',\n",
       " 'yes'}"
      ]
     },
     "execution_count": 18,
     "metadata": {},
     "output_type": "execute_result"
    }
   ],
   "source": [
    "vocab"
   ]
  },
  {
   "cell_type": "code",
   "execution_count": 19,
   "metadata": {},
   "outputs": [],
   "source": [
    "vocab_len = len(vocab) + 1 #we add an extra space to hold a 0 for Keras's pad_sequences:This function transforms a list (of length num_samples) of sequences (lists of integers) into a 2D Numpy array of shape (num_samples, num_timesteps). num_timesteps is either the maxlen argument if provided, or the length of the longest sequence in the list."
   ]
  },
  {
   "cell_type": "code",
   "execution_count": 20,
   "metadata": {},
   "outputs": [],
   "source": [
    "max_story_len = max([len(data[0]) for data in all_data])"
   ]
  },
  {
   "cell_type": "code",
   "execution_count": 21,
   "metadata": {},
   "outputs": [
    {
     "data": {
      "text/plain": [
       "156"
      ]
     },
     "execution_count": 21,
     "metadata": {},
     "output_type": "execute_result"
    }
   ],
   "source": [
    "max_story_len"
   ]
  },
  {
   "cell_type": "code",
   "execution_count": 22,
   "metadata": {},
   "outputs": [],
   "source": [
    "max_question_len = max([len(data[1]) for data in all_data])"
   ]
  },
  {
   "cell_type": "code",
   "execution_count": 23,
   "metadata": {},
   "outputs": [
    {
     "data": {
      "text/plain": [
       "6"
      ]
     },
     "execution_count": 23,
     "metadata": {},
     "output_type": "execute_result"
    }
   ],
   "source": [
    "max_question_len"
   ]
  },
  {
   "cell_type": "markdown",
   "metadata": {},
   "source": [
    "## Vectorizing the Data"
   ]
  },
  {
   "cell_type": "code",
   "execution_count": 24,
   "metadata": {},
   "outputs": [
    {
     "data": {
      "text/plain": [
       "{'.',\n",
       " '?',\n",
       " 'Daniel',\n",
       " 'Is',\n",
       " 'John',\n",
       " 'Mary',\n",
       " 'Sandra',\n",
       " 'apple',\n",
       " 'back',\n",
       " 'bathroom',\n",
       " 'bedroom',\n",
       " 'discarded',\n",
       " 'down',\n",
       " 'dropped',\n",
       " 'football',\n",
       " 'garden',\n",
       " 'got',\n",
       " 'grabbed',\n",
       " 'hallway',\n",
       " 'in',\n",
       " 'journeyed',\n",
       " 'kitchen',\n",
       " 'left',\n",
       " 'milk',\n",
       " 'moved',\n",
       " 'no',\n",
       " 'office',\n",
       " 'picked',\n",
       " 'put',\n",
       " 'the',\n",
       " 'there',\n",
       " 'to',\n",
       " 'took',\n",
       " 'travelled',\n",
       " 'up',\n",
       " 'went',\n",
       " 'yes'}"
      ]
     },
     "execution_count": 24,
     "metadata": {},
     "output_type": "execute_result"
    }
   ],
   "source": [
    "vocab"
   ]
  },
  {
   "cell_type": "code",
   "execution_count": 25,
   "metadata": {},
   "outputs": [],
   "source": [
    "# Reserve 0 for pad_sequences\n",
    "vocab_size = len(vocab) + 1"
   ]
  },
  {
   "cell_type": "markdown",
   "metadata": {},
   "source": [
    "-----------"
   ]
  },
  {
   "cell_type": "code",
   "execution_count": 26,
   "metadata": {},
   "outputs": [],
   "source": [
    "from tensorflow.keras.preprocessing.sequence import pad_sequences\n",
    "from keras.preprocessing.text import Tokenizer "
   ]
  },
  {
   "cell_type": "code",
   "execution_count": 27,
   "metadata": {},
   "outputs": [],
   "source": [
    "# integer encode sequences of words\n",
    "tokenizer = Tokenizer(filters=[])\n",
    "tokenizer.fit_on_texts(vocab)"
   ]
  },
  {
   "cell_type": "code",
   "execution_count": 27,
   "metadata": {},
   "outputs": [
    {
     "data": {
      "text/plain": [
       "{'back': 1,\n",
       " 'put': 2,\n",
       " 'dropped': 3,\n",
       " 'apple': 4,\n",
       " 'picked': 5,\n",
       " 'football': 6,\n",
       " 'yes': 7,\n",
       " 'the': 8,\n",
       " 'down': 9,\n",
       " 'left': 10,\n",
       " 'went': 11,\n",
       " 'moved': 12,\n",
       " 'no': 13,\n",
       " 'there': 14,\n",
       " 'mary': 15,\n",
       " 'daniel': 16,\n",
       " 'travelled': 17,\n",
       " '?': 18,\n",
       " 'bedroom': 19,\n",
       " 'hallway': 20,\n",
       " 'is': 21,\n",
       " 'milk': 22,\n",
       " 'john': 23,\n",
       " 'bathroom': 24,\n",
       " 'journeyed': 25,\n",
       " 'discarded': 26,\n",
       " '.': 27,\n",
       " 'garden': 28,\n",
       " 'office': 29,\n",
       " 'in': 30,\n",
       " 'up': 31,\n",
       " 'to': 32,\n",
       " 'got': 33,\n",
       " 'took': 34,\n",
       " 'sandra': 35,\n",
       " 'kitchen': 36,\n",
       " 'grabbed': 37}"
      ]
     },
     "execution_count": 27,
     "metadata": {},
     "output_type": "execute_result"
    }
   ],
   "source": [
    "tokenizer.word_index"
   ]
  },
  {
   "cell_type": "code",
   "execution_count": 28,
   "metadata": {},
   "outputs": [],
   "source": [
    "train_story_text = []\n",
    "train_question_text = []\n",
    "train_answers = []\n",
    "\n",
    "for story,question,answer in train_data:\n",
    "    train_story_text.append(story)\n",
    "    train_question_text.append(question)"
   ]
  },
  {
   "cell_type": "code",
   "execution_count": 29,
   "metadata": {},
   "outputs": [],
   "source": [
    "train_story_seq = tokenizer.texts_to_sequences(train_story_text)"
   ]
  },
  {
   "cell_type": "code",
   "execution_count": 30,
   "metadata": {},
   "outputs": [
    {
     "data": {
      "text/plain": [
       "10000"
      ]
     },
     "execution_count": 30,
     "metadata": {},
     "output_type": "execute_result"
    }
   ],
   "source": [
    "len(train_story_text)"
   ]
  },
  {
   "cell_type": "code",
   "execution_count": 31,
   "metadata": {},
   "outputs": [
    {
     "data": {
      "text/plain": [
       "10000"
      ]
     },
     "execution_count": 31,
     "metadata": {},
     "output_type": "execute_result"
    }
   ],
   "source": [
    "len(train_story_seq)"
   ]
  },
  {
   "cell_type": "code",
   "execution_count": 32,
   "metadata": {},
   "outputs": [],
   "source": [
    "# word_index = tokenizer.word_index"
   ]
  },
  {
   "cell_type": "markdown",
   "metadata": {},
   "source": [
    "### Functionalize Vectorization"
   ]
  },
  {
   "cell_type": "code",
   "execution_count": 33,
   "metadata": {},
   "outputs": [],
   "source": [
    "def vectorize_stories(data, word_index=tokenizer.word_index, max_story_len=max_story_len,max_question_len=max_question_len):\n",
    "    '''\n",
    "    INPUT: \n",
    "    \n",
    "    data: consisting of Stories,Queries,and Answers\n",
    "    word_index: word index dictionary from tokenizer\n",
    "    max_story_len: the length of the longest story (used for pad_sequences function)\n",
    "    max_question_len: length of the longest question (used for pad_sequences function)\n",
    "\n",
    "\n",
    "    OUTPUT:\n",
    "    \n",
    "    Vectorizes the stories,questions, and answers into padded sequences. We first loop for every story, query , and\n",
    "    answer in the data. Then we convert the raw words to an word index value. Then we append each set to their appropriate\n",
    "    output list. Then once we have converted the words to numbers, we pad the sequences so they are all of equal length.\n",
    "    \n",
    "    Returns this in the form of a tuple (X,Xq,Y) (padded based on max lengths)\n",
    "    '''\n",
    "    \n",
    "    \n",
    "    # X = STORIES\n",
    "    X = []\n",
    "    # Xq = QUERY/QUESTION\n",
    "    Xq = []\n",
    "    # Y = CORRECT ANSWER\n",
    "    Y = []\n",
    "    \n",
    "    \n",
    "    for story, query, answer in data:\n",
    "        \n",
    "        # Grab the word index for every word in story\n",
    "        x = [word_index[word.lower()] for word in story]\n",
    "        # Grab the word index for every word in query\n",
    "        xq = [word_index[word.lower()] for word in query]\n",
    "        \n",
    "        # Grab the Answers (either Yes/No so we don't need to use list comprehension here)\n",
    "        # Index 0 is reserved so we're going to use + 1\n",
    "        y = np.zeros(len(word_index) + 1)#The numpy.zeros() function returns a new array of given shape and type, with zeros\n",
    "        \n",
    "        # Now that y is all zeros and we know its just Yes/No , we can use numpy logic to create this assignment\n",
    "        #\n",
    "        y[word_index[answer]] = 1 \n",
    "        \n",
    "        # Append each set of story,query, and answer to their respective holding lists\n",
    "        X.append(x)\n",
    "        Xq.append(xq)\n",
    "        Y.append(y)\n",
    "        \n",
    "    # Finally, pad the sequences based on their max length so the RNN can be trained on uniformly long sequences.\n",
    "        \n",
    "    # RETURN TUPLE FOR UNPACKING\n",
    "    return (pad_sequences(X, maxlen=max_story_len),pad_sequences(Xq, maxlen=max_question_len), np.array(Y))"
   ]
  },
  {
   "cell_type": "code",
   "execution_count": 34,
   "metadata": {},
   "outputs": [],
   "source": [
    "inputs_train, queries_train, answers_train = vectorize_stories(train_data)"
   ]
  },
  {
   "cell_type": "code",
   "execution_count": 35,
   "metadata": {},
   "outputs": [],
   "source": [
    "inputs_test, queries_test, answers_test = vectorize_stories(test_data)"
   ]
  },
  {
   "cell_type": "code",
   "execution_count": 36,
   "metadata": {},
   "outputs": [
    {
     "data": {
      "text/plain": [
       "array([[ 0,  0,  0, ...,  8, 19, 27],\n",
       "       [ 0,  0,  0, ...,  8, 28, 27],\n",
       "       [ 0,  0,  0, ...,  8, 28, 27],\n",
       "       ...,\n",
       "       [ 0,  0,  0, ...,  8,  4, 27],\n",
       "       [ 0,  0,  0, ...,  8, 28, 27],\n",
       "       [ 0,  0,  0, ...,  4, 14, 27]])"
      ]
     },
     "execution_count": 36,
     "metadata": {},
     "output_type": "execute_result"
    }
   ],
   "source": [
    "inputs_test"
   ]
  },
  {
   "cell_type": "code",
   "execution_count": 37,
   "metadata": {},
   "outputs": [
    {
     "data": {
      "text/plain": [
       "array([[21, 23, 30,  8, 36, 18],\n",
       "       [21, 23, 30,  8, 36, 18],\n",
       "       [21, 23, 30,  8, 28, 18],\n",
       "       ...,\n",
       "       [21, 15, 30,  8, 19, 18],\n",
       "       [21, 35, 30,  8, 28, 18],\n",
       "       [21, 15, 30,  8, 28, 18]])"
      ]
     },
     "execution_count": 37,
     "metadata": {},
     "output_type": "execute_result"
    }
   ],
   "source": [
    "queries_test"
   ]
  },
  {
   "cell_type": "code",
   "execution_count": 38,
   "metadata": {},
   "outputs": [
    {
     "data": {
      "text/plain": [
       "array([[0., 0., 0., ..., 0., 0., 0.],\n",
       "       [0., 0., 0., ..., 0., 0., 0.],\n",
       "       [0., 0., 0., ..., 0., 0., 0.],\n",
       "       ...,\n",
       "       [0., 0., 0., ..., 0., 0., 0.],\n",
       "       [0., 0., 0., ..., 0., 0., 0.],\n",
       "       [0., 0., 0., ..., 0., 0., 0.]])"
      ]
     },
     "execution_count": 38,
     "metadata": {},
     "output_type": "execute_result"
    }
   ],
   "source": [
    "answers_test"
   ]
  },
  {
   "cell_type": "code",
   "execution_count": 39,
   "metadata": {},
   "outputs": [
    {
     "data": {
      "text/plain": [
       "array([  0.,   0.,   0.,   0.,   0.,   0.,   0., 497.,   0.,   0.,   0.,\n",
       "         0.,   0., 503.,   0.,   0.,   0.,   0.,   0.,   0.,   0.,   0.,\n",
       "         0.,   0.,   0.,   0.,   0.,   0.,   0.,   0.,   0.,   0.,   0.,\n",
       "         0.,   0.,   0.,   0.,   0.])"
      ]
     },
     "execution_count": 39,
     "metadata": {},
     "output_type": "execute_result"
    }
   ],
   "source": [
    "sum(answers_test)"
   ]
  },
  {
   "cell_type": "code",
   "execution_count": 40,
   "metadata": {},
   "outputs": [
    {
     "data": {
      "text/plain": [
       "7"
      ]
     },
     "execution_count": 40,
     "metadata": {},
     "output_type": "execute_result"
    }
   ],
   "source": [
    "tokenizer.word_index['yes']"
   ]
  },
  {
   "cell_type": "code",
   "execution_count": 41,
   "metadata": {},
   "outputs": [
    {
     "data": {
      "text/plain": [
       "13"
      ]
     },
     "execution_count": 41,
     "metadata": {},
     "output_type": "execute_result"
    }
   ],
   "source": [
    "tokenizer.word_index['no']"
   ]
  },
  {
   "cell_type": "markdown",
   "metadata": {},
   "source": [
    "## Creating the Model"
   ]
  },
  {
   "cell_type": "code",
   "execution_count": 43,
   "metadata": {},
   "outputs": [],
   "source": [
    "from keras.models import Sequential, Model\n",
    "from tensorflow.keras.layers import Embedding\n",
    "from keras.layers import Input, Activation, Dense, Permute, Dropout\n",
    "from keras.layers import add, dot, concatenate\n",
    "from keras.layers import LSTM"
   ]
  },
  {
   "cell_type": "markdown",
   "metadata": {},
   "source": [
    "### Placeholders for Inputs\n",
    "\n",
    "Recall we technically have two inputs, stories and questions. So we need to use placeholders. `Input()` is used to instantiate a Keras tensor.\n"
   ]
  },
  {
   "cell_type": "code",
   "execution_count": 44,
   "metadata": {},
   "outputs": [],
   "source": [
    "input_sequence = Input((max_story_len,))\n",
    "question = Input((max_question_len,))"
   ]
  },
  {
   "cell_type": "markdown",
   "metadata": {
    "collapsed": true
   },
   "source": [
    "### Building the Networks\n",
    "\n",
    "To understand why we chose this setup, make sure to read the paper we are using:\n",
    "\n",
    "* Sainbayar Sukhbaatar, Arthur Szlam, Jason Weston, Rob Fergus,\n",
    "  \"End-To-End Memory Networks\",\n",
    "  http://arxiv.org/abs/1503.08895"
   ]
  },
  {
   "cell_type": "markdown",
   "metadata": {},
   "source": [
    "## Encoders\n",
    "\n",
    "### Input Encoder m"
   ]
  },
  {
   "cell_type": "code",
   "execution_count": 45,
   "metadata": {},
   "outputs": [],
   "source": [
    "# Input gets embedded to a sequence of vectors\n",
    "input_encoder_m = Sequential()\n",
    "input_encoder_m.add(Embedding(input_dim=vocab_size,output_dim=64))\n",
    "input_encoder_m.add(Dropout(0.3))\n",
    "\n",
    "# This encoder will output:\n",
    "# (samples, story_maxlen, embedding_dim)"
   ]
  },
  {
   "cell_type": "markdown",
   "metadata": {},
   "source": [
    "### Input Encoder c"
   ]
  },
  {
   "cell_type": "code",
   "execution_count": 46,
   "metadata": {},
   "outputs": [],
   "source": [
    "# embed the input into a sequence of vectors of size query_maxlen\n",
    "input_encoder_c = Sequential()\n",
    "input_encoder_c.add(Embedding(input_dim=vocab_size,output_dim=max_question_len))\n",
    "input_encoder_c.add(Dropout(0.3))\n",
    "# output: (samples, story_maxlen, query_maxlen)"
   ]
  },
  {
   "cell_type": "markdown",
   "metadata": {},
   "source": [
    "### Question Encoder"
   ]
  },
  {
   "cell_type": "code",
   "execution_count": 47,
   "metadata": {},
   "outputs": [],
   "source": [
    "# embed the question into a sequence of vectors\n",
    "question_encoder = Sequential()\n",
    "question_encoder.add(Embedding(input_dim=vocab_size,\n",
    "                               output_dim=64,\n",
    "                               input_length=max_question_len))\n",
    "question_encoder.add(Dropout(0.3))\n",
    "# output: (samples, query_maxlen, embedding_dim)"
   ]
  },
  {
   "cell_type": "markdown",
   "metadata": {},
   "source": [
    "### Encode the Sequences"
   ]
  },
  {
   "cell_type": "code",
   "execution_count": 48,
   "metadata": {},
   "outputs": [],
   "source": [
    "# encode input sequence and questions (which are indices)\n",
    "# to sequences of dense vectors\n",
    "input_encoded_m = input_encoder_m(input_sequence)\n",
    "input_encoded_c = input_encoder_c(input_sequence)\n",
    "question_encoded = question_encoder(question)"
   ]
  },
  {
   "cell_type": "markdown",
   "metadata": {},
   "source": [
    "##### Use dot product to compute the match between first input vector seq and the query"
   ]
  },
  {
   "cell_type": "code",
   "execution_count": 49,
   "metadata": {},
   "outputs": [],
   "source": [
    "# shape: `(samples, story_maxlen, query_maxlen)`\n",
    "match = dot([input_encoded_m, question_encoded], axes=(2, 2))\n",
    "match = Activation('softmax')(match)"
   ]
  },
  {
   "cell_type": "markdown",
   "metadata": {},
   "source": [
    "#### Add this match matrix with the second input vector sequence"
   ]
  },
  {
   "cell_type": "code",
   "execution_count": 50,
   "metadata": {},
   "outputs": [],
   "source": [
    "# add the match matrix with the second input vector sequence\n",
    "response = add([match, input_encoded_c])  # (samples, story_maxlen, query_maxlen)\n",
    "response = Permute((2, 1))(response)  # (samples, query_maxlen, story_maxlen)"
   ]
  },
  {
   "cell_type": "markdown",
   "metadata": {},
   "source": [
    "#### Concatenate"
   ]
  },
  {
   "cell_type": "code",
   "execution_count": 51,
   "metadata": {},
   "outputs": [],
   "source": [
    "# concatenate the match matrix with the question vector sequence\n",
    "answer = concatenate([response, question_encoded])"
   ]
  },
  {
   "cell_type": "code",
   "execution_count": 52,
   "metadata": {},
   "outputs": [
    {
     "data": {
      "text/plain": [
       "<KerasTensor: shape=(None, 6, 220) dtype=float32 (created by layer 'concatenate')>"
      ]
     },
     "execution_count": 52,
     "metadata": {},
     "output_type": "execute_result"
    }
   ],
   "source": [
    "answer"
   ]
  },
  {
   "cell_type": "code",
   "execution_count": 53,
   "metadata": {},
   "outputs": [],
   "source": [
    "# Reduce with RNN (LSTM)\n",
    "answer = LSTM(32)(answer)  # (samples, 32)"
   ]
  },
  {
   "cell_type": "code",
   "execution_count": 54,
   "metadata": {},
   "outputs": [],
   "source": [
    "# Regularization with Dropout\n",
    "answer = Dropout(0.5)(answer)\n",
    "answer = Dense(vocab_size)(answer)  # (samples, vocab_size)"
   ]
  },
  {
   "cell_type": "code",
   "execution_count": 55,
   "metadata": {},
   "outputs": [],
   "source": [
    "# we output a probability distribution over the vocabulary\n",
    "answer = Activation('softmax')(answer)\n",
    "\n",
    "# build the final model\n",
    "model = Model([input_sequence, question], answer)\n",
    "model.compile(optimizer='rmsprop', loss='categorical_crossentropy',\n",
    "              metrics=['accuracy'])"
   ]
  },
  {
   "cell_type": "code",
   "execution_count": 56,
   "metadata": {},
   "outputs": [
    {
     "name": "stdout",
     "output_type": "stream",
     "text": [
      "Model: \"model\"\n",
      "__________________________________________________________________________________________________\n",
      " Layer (type)                   Output Shape         Param #     Connected to                     \n",
      "==================================================================================================\n",
      " input_1 (InputLayer)           [(None, 156)]        0           []                               \n",
      "                                                                                                  \n",
      " input_2 (InputLayer)           [(None, 6)]          0           []                               \n",
      "                                                                                                  \n",
      " sequential (Sequential)        (None, None, 64)     2432        ['input_1[0][0]']                \n",
      "                                                                                                  \n",
      " sequential_2 (Sequential)      (None, 6, 64)        2432        ['input_2[0][0]']                \n",
      "                                                                                                  \n",
      " dot (Dot)                      (None, 156, 6)       0           ['sequential[0][0]',             \n",
      "                                                                  'sequential_2[0][0]']           \n",
      "                                                                                                  \n",
      " activation (Activation)        (None, 156, 6)       0           ['dot[0][0]']                    \n",
      "                                                                                                  \n",
      " sequential_1 (Sequential)      (None, None, 6)      228         ['input_1[0][0]']                \n",
      "                                                                                                  \n",
      " add (Add)                      (None, 156, 6)       0           ['activation[0][0]',             \n",
      "                                                                  'sequential_1[0][0]']           \n",
      "                                                                                                  \n",
      " permute (Permute)              (None, 6, 156)       0           ['add[0][0]']                    \n",
      "                                                                                                  \n",
      " concatenate (Concatenate)      (None, 6, 220)       0           ['permute[0][0]',                \n",
      "                                                                  'sequential_2[0][0]']           \n",
      "                                                                                                  \n",
      " lstm (LSTM)                    (None, 32)           32384       ['concatenate[0][0]']            \n",
      "                                                                                                  \n",
      " dropout_3 (Dropout)            (None, 32)           0           ['lstm[0][0]']                   \n",
      "                                                                                                  \n",
      " dense (Dense)                  (None, 38)           1254        ['dropout_3[0][0]']              \n",
      "                                                                                                  \n",
      " activation_1 (Activation)      (None, 38)           0           ['dense[0][0]']                  \n",
      "                                                                                                  \n",
      "==================================================================================================\n",
      "Total params: 38,730\n",
      "Trainable params: 38,730\n",
      "Non-trainable params: 0\n",
      "__________________________________________________________________________________________________\n"
     ]
    }
   ],
   "source": [
    "model.summary()"
   ]
  },
  {
   "cell_type": "code",
   "execution_count": 62,
   "metadata": {},
   "outputs": [
    {
     "name": "stdout",
     "output_type": "stream",
     "text": [
      "Epoch 1/120\n",
      "313/313 [==============================] - 5s 15ms/step - loss: 0.1909 - accuracy: 0.9279 - val_loss: 0.6226 - val_accuracy: 0.7980\n",
      "Epoch 2/120\n",
      "313/313 [==============================] - 4s 13ms/step - loss: 0.1909 - accuracy: 0.9280 - val_loss: 0.6283 - val_accuracy: 0.7960\n",
      "Epoch 3/120\n",
      "313/313 [==============================] - 4s 12ms/step - loss: 0.1867 - accuracy: 0.9284 - val_loss: 0.6604 - val_accuracy: 0.7950\n",
      "Epoch 4/120\n",
      "313/313 [==============================] - 3s 10ms/step - loss: 0.1890 - accuracy: 0.9290 - val_loss: 0.6190 - val_accuracy: 0.7960\n",
      "Epoch 5/120\n",
      "313/313 [==============================] - 3s 11ms/step - loss: 0.1945 - accuracy: 0.9264 - val_loss: 0.6511 - val_accuracy: 0.7950\n",
      "Epoch 6/120\n",
      "313/313 [==============================] - 3s 11ms/step - loss: 0.1827 - accuracy: 0.9315 - val_loss: 0.6250 - val_accuracy: 0.7880\n",
      "Epoch 7/120\n",
      "313/313 [==============================] - 3s 10ms/step - loss: 0.1871 - accuracy: 0.9297 - val_loss: 0.7037 - val_accuracy: 0.7930\n",
      "Epoch 8/120\n",
      "313/313 [==============================] - 3s 10ms/step - loss: 0.1907 - accuracy: 0.9280 - val_loss: 0.7536 - val_accuracy: 0.7840\n",
      "Epoch 9/120\n",
      "313/313 [==============================] - 3s 10ms/step - loss: 0.1836 - accuracy: 0.9314 - val_loss: 0.7473 - val_accuracy: 0.7880\n",
      "Epoch 10/120\n",
      "313/313 [==============================] - 3s 11ms/step - loss: 0.1752 - accuracy: 0.9327 - val_loss: 0.7035 - val_accuracy: 0.8010\n",
      "Epoch 11/120\n",
      "313/313 [==============================] - 3s 10ms/step - loss: 0.1779 - accuracy: 0.9347 - val_loss: 0.6965 - val_accuracy: 0.8000\n",
      "Epoch 12/120\n",
      "313/313 [==============================] - 3s 10ms/step - loss: 0.1795 - accuracy: 0.9325 - val_loss: 0.7388 - val_accuracy: 0.7810\n",
      "Epoch 13/120\n",
      "313/313 [==============================] - 3s 10ms/step - loss: 0.1798 - accuracy: 0.9330 - val_loss: 0.6754 - val_accuracy: 0.7990\n",
      "Epoch 14/120\n",
      "313/313 [==============================] - 3s 10ms/step - loss: 0.1789 - accuracy: 0.9340 - val_loss: 0.6817 - val_accuracy: 0.7880\n",
      "Epoch 15/120\n",
      "313/313 [==============================] - 4s 11ms/step - loss: 0.1794 - accuracy: 0.9342 - val_loss: 0.6468 - val_accuracy: 0.8010\n",
      "Epoch 16/120\n",
      "313/313 [==============================] - 3s 10ms/step - loss: 0.1795 - accuracy: 0.9342 - val_loss: 0.6905 - val_accuracy: 0.7920\n",
      "Epoch 17/120\n",
      "313/313 [==============================] - 3s 10ms/step - loss: 0.1799 - accuracy: 0.9324 - val_loss: 0.7352 - val_accuracy: 0.7860\n",
      "Epoch 18/120\n",
      "313/313 [==============================] - 3s 10ms/step - loss: 0.1735 - accuracy: 0.9352 - val_loss: 0.6890 - val_accuracy: 0.7990\n",
      "Epoch 19/120\n",
      "313/313 [==============================] - 3s 10ms/step - loss: 0.1717 - accuracy: 0.9374 - val_loss: 0.6467 - val_accuracy: 0.7980\n",
      "Epoch 20/120\n",
      "313/313 [==============================] - 3s 11ms/step - loss: 0.1780 - accuracy: 0.9332 - val_loss: 0.7371 - val_accuracy: 0.7910\n",
      "Epoch 21/120\n",
      "313/313 [==============================] - 3s 10ms/step - loss: 0.1734 - accuracy: 0.9361 - val_loss: 0.7231 - val_accuracy: 0.7840\n",
      "Epoch 22/120\n",
      "313/313 [==============================] - 3s 10ms/step - loss: 0.1730 - accuracy: 0.9351 - val_loss: 0.7799 - val_accuracy: 0.7700\n",
      "Epoch 23/120\n",
      "313/313 [==============================] - 3s 10ms/step - loss: 0.1691 - accuracy: 0.9360 - val_loss: 0.6947 - val_accuracy: 0.7930\n",
      "Epoch 24/120\n",
      "313/313 [==============================] - 3s 11ms/step - loss: 0.1672 - accuracy: 0.9395 - val_loss: 0.7676 - val_accuracy: 0.7950\n",
      "Epoch 25/120\n",
      "313/313 [==============================] - 3s 11ms/step - loss: 0.1608 - accuracy: 0.9406 - val_loss: 0.7453 - val_accuracy: 0.7820\n",
      "Epoch 26/120\n",
      "313/313 [==============================] - 3s 10ms/step - loss: 0.1651 - accuracy: 0.9392 - val_loss: 0.7488 - val_accuracy: 0.7820\n",
      "Epoch 27/120\n",
      "313/313 [==============================] - 3s 10ms/step - loss: 0.1700 - accuracy: 0.9380 - val_loss: 0.7193 - val_accuracy: 0.7890\n",
      "Epoch 28/120\n",
      "313/313 [==============================] - 3s 10ms/step - loss: 0.1635 - accuracy: 0.9411 - val_loss: 0.7435 - val_accuracy: 0.7940\n",
      "Epoch 29/120\n",
      "313/313 [==============================] - 3s 11ms/step - loss: 0.1649 - accuracy: 0.9385 - val_loss: 0.6951 - val_accuracy: 0.7920\n",
      "Epoch 30/120\n",
      "313/313 [==============================] - 3s 11ms/step - loss: 0.1620 - accuracy: 0.9403 - val_loss: 0.7067 - val_accuracy: 0.7820\n",
      "Epoch 31/120\n",
      "313/313 [==============================] - 3s 10ms/step - loss: 0.1720 - accuracy: 0.9355 - val_loss: 0.7515 - val_accuracy: 0.7800\n",
      "Epoch 32/120\n",
      "313/313 [==============================] - 3s 10ms/step - loss: 0.1567 - accuracy: 0.9416 - val_loss: 0.7490 - val_accuracy: 0.7960\n",
      "Epoch 33/120\n",
      "313/313 [==============================] - 3s 10ms/step - loss: 0.1681 - accuracy: 0.9359 - val_loss: 0.7721 - val_accuracy: 0.7910\n",
      "Epoch 34/120\n",
      "313/313 [==============================] - 4s 12ms/step - loss: 0.1632 - accuracy: 0.9393 - val_loss: 0.7819 - val_accuracy: 0.7820\n",
      "Epoch 35/120\n",
      "313/313 [==============================] - 3s 11ms/step - loss: 0.1607 - accuracy: 0.9422 - val_loss: 0.7493 - val_accuracy: 0.7950\n",
      "Epoch 36/120\n",
      "313/313 [==============================] - 3s 10ms/step - loss: 0.1668 - accuracy: 0.9388 - val_loss: 0.6961 - val_accuracy: 0.7970\n",
      "Epoch 37/120\n",
      "313/313 [==============================] - 3s 11ms/step - loss: 0.1630 - accuracy: 0.9422 - val_loss: 0.7517 - val_accuracy: 0.7910\n",
      "Epoch 38/120\n",
      "313/313 [==============================] - 3s 11ms/step - loss: 0.1577 - accuracy: 0.9401 - val_loss: 0.7179 - val_accuracy: 0.7990\n",
      "Epoch 39/120\n",
      "313/313 [==============================] - 3s 11ms/step - loss: 0.1532 - accuracy: 0.9452 - val_loss: 0.7866 - val_accuracy: 0.7830\n",
      "Epoch 40/120\n",
      "313/313 [==============================] - 3s 10ms/step - loss: 0.1554 - accuracy: 0.9420 - val_loss: 0.7371 - val_accuracy: 0.7800\n",
      "Epoch 41/120\n",
      "313/313 [==============================] - 3s 10ms/step - loss: 0.1541 - accuracy: 0.9414 - val_loss: 0.8502 - val_accuracy: 0.7800\n",
      "Epoch 42/120\n",
      "313/313 [==============================] - 3s 10ms/step - loss: 0.1578 - accuracy: 0.9435 - val_loss: 0.8350 - val_accuracy: 0.7770\n",
      "Epoch 43/120\n",
      "313/313 [==============================] - 3s 10ms/step - loss: 0.1549 - accuracy: 0.9432 - val_loss: 0.8426 - val_accuracy: 0.7760\n",
      "Epoch 44/120\n",
      "313/313 [==============================] - 4s 11ms/step - loss: 0.1494 - accuracy: 0.9460 - val_loss: 0.8344 - val_accuracy: 0.7800\n",
      "Epoch 45/120\n",
      "313/313 [==============================] - 3s 10ms/step - loss: 0.1539 - accuracy: 0.9431 - val_loss: 0.8083 - val_accuracy: 0.7920\n",
      "Epoch 46/120\n",
      "313/313 [==============================] - 3s 10ms/step - loss: 0.1514 - accuracy: 0.9423 - val_loss: 0.7861 - val_accuracy: 0.7880\n",
      "Epoch 47/120\n",
      "313/313 [==============================] - 3s 10ms/step - loss: 0.1550 - accuracy: 0.9426 - val_loss: 0.7523 - val_accuracy: 0.7980\n",
      "Epoch 48/120\n",
      "313/313 [==============================] - 3s 10ms/step - loss: 0.1492 - accuracy: 0.9451 - val_loss: 0.8208 - val_accuracy: 0.7800\n",
      "Epoch 49/120\n",
      "313/313 [==============================] - 3s 11ms/step - loss: 0.1470 - accuracy: 0.9469 - val_loss: 0.8780 - val_accuracy: 0.7730\n",
      "Epoch 50/120\n",
      "313/313 [==============================] - 3s 10ms/step - loss: 0.1463 - accuracy: 0.9478 - val_loss: 0.8181 - val_accuracy: 0.7830\n",
      "Epoch 51/120\n",
      "313/313 [==============================] - 3s 10ms/step - loss: 0.1407 - accuracy: 0.9486 - val_loss: 0.8561 - val_accuracy: 0.7750\n",
      "Epoch 52/120\n",
      "313/313 [==============================] - 3s 10ms/step - loss: 0.1545 - accuracy: 0.9451 - val_loss: 0.8380 - val_accuracy: 0.7810\n",
      "Epoch 53/120\n",
      "313/313 [==============================] - 3s 11ms/step - loss: 0.1490 - accuracy: 0.9453 - val_loss: 0.8910 - val_accuracy: 0.7810\n",
      "Epoch 54/120\n",
      "313/313 [==============================] - 3s 11ms/step - loss: 0.1509 - accuracy: 0.9435 - val_loss: 0.7584 - val_accuracy: 0.7790\n",
      "Epoch 55/120\n",
      "313/313 [==============================] - 3s 10ms/step - loss: 0.1449 - accuracy: 0.9454 - val_loss: 0.8009 - val_accuracy: 0.7900\n",
      "Epoch 56/120\n",
      "313/313 [==============================] - 3s 10ms/step - loss: 0.1503 - accuracy: 0.9462 - val_loss: 0.8129 - val_accuracy: 0.7830\n",
      "Epoch 57/120\n",
      "313/313 [==============================] - 3s 10ms/step - loss: 0.1511 - accuracy: 0.9474 - val_loss: 0.8139 - val_accuracy: 0.7910\n",
      "Epoch 58/120\n",
      "313/313 [==============================] - 3s 10ms/step - loss: 0.1465 - accuracy: 0.9450 - val_loss: 0.8791 - val_accuracy: 0.7830\n",
      "Epoch 59/120\n",
      "313/313 [==============================] - 3s 11ms/step - loss: 0.1417 - accuracy: 0.9475 - val_loss: 0.8452 - val_accuracy: 0.7770\n",
      "Epoch 60/120\n",
      "313/313 [==============================] - 3s 10ms/step - loss: 0.1416 - accuracy: 0.9511 - val_loss: 0.7782 - val_accuracy: 0.7880\n",
      "Epoch 61/120\n",
      "313/313 [==============================] - 3s 10ms/step - loss: 0.1469 - accuracy: 0.9451 - val_loss: 0.6900 - val_accuracy: 0.7950\n",
      "Epoch 62/120\n",
      "313/313 [==============================] - 3s 10ms/step - loss: 0.1397 - accuracy: 0.9488 - val_loss: 0.9629 - val_accuracy: 0.7790\n",
      "Epoch 63/120\n",
      "313/313 [==============================] - 4s 12ms/step - loss: 0.1439 - accuracy: 0.9489 - val_loss: 0.8359 - val_accuracy: 0.7800\n",
      "Epoch 64/120\n",
      "313/313 [==============================] - 3s 10ms/step - loss: 0.1381 - accuracy: 0.9481 - val_loss: 0.9113 - val_accuracy: 0.7840\n",
      "Epoch 65/120\n",
      "313/313 [==============================] - 3s 10ms/step - loss: 0.1408 - accuracy: 0.9498 - val_loss: 0.8517 - val_accuracy: 0.7880\n",
      "Epoch 66/120\n",
      "313/313 [==============================] - 3s 10ms/step - loss: 0.1428 - accuracy: 0.9488 - val_loss: 0.7986 - val_accuracy: 0.7850\n",
      "Epoch 67/120\n",
      "313/313 [==============================] - 3s 10ms/step - loss: 0.1378 - accuracy: 0.9502 - val_loss: 0.7639 - val_accuracy: 0.7810\n",
      "Epoch 68/120\n",
      "313/313 [==============================] - 3s 11ms/step - loss: 0.1326 - accuracy: 0.9539 - val_loss: 0.8770 - val_accuracy: 0.7830\n",
      "Epoch 69/120\n",
      "313/313 [==============================] - 3s 10ms/step - loss: 0.1382 - accuracy: 0.9529 - val_loss: 0.8025 - val_accuracy: 0.7820\n",
      "Epoch 70/120\n",
      "313/313 [==============================] - 3s 10ms/step - loss: 0.1364 - accuracy: 0.9495 - val_loss: 0.8192 - val_accuracy: 0.7870\n",
      "Epoch 71/120\n",
      "313/313 [==============================] - 3s 10ms/step - loss: 0.1383 - accuracy: 0.9502 - val_loss: 0.8220 - val_accuracy: 0.7850\n",
      "Epoch 72/120\n",
      "313/313 [==============================] - 3s 10ms/step - loss: 0.1296 - accuracy: 0.9529 - val_loss: 0.8310 - val_accuracy: 0.7860\n",
      "Epoch 73/120\n",
      "313/313 [==============================] - 3s 11ms/step - loss: 0.1393 - accuracy: 0.9497 - val_loss: 0.7958 - val_accuracy: 0.7890\n",
      "Epoch 74/120\n",
      "313/313 [==============================] - 3s 10ms/step - loss: 0.1320 - accuracy: 0.9522 - val_loss: 0.8839 - val_accuracy: 0.7950\n",
      "Epoch 75/120\n",
      "313/313 [==============================] - 3s 10ms/step - loss: 0.1362 - accuracy: 0.9500 - val_loss: 0.8558 - val_accuracy: 0.7780\n",
      "Epoch 76/120\n",
      "313/313 [==============================] - 3s 10ms/step - loss: 0.1375 - accuracy: 0.9474 - val_loss: 0.7896 - val_accuracy: 0.7840\n",
      "Epoch 77/120\n",
      "313/313 [==============================] - 3s 10ms/step - loss: 0.1332 - accuracy: 0.9514 - val_loss: 0.9278 - val_accuracy: 0.7780\n",
      "Epoch 78/120\n",
      "313/313 [==============================] - 3s 11ms/step - loss: 0.1389 - accuracy: 0.9508 - val_loss: 0.9526 - val_accuracy: 0.7740\n",
      "Epoch 79/120\n",
      "313/313 [==============================] - 3s 11ms/step - loss: 0.1367 - accuracy: 0.9531 - val_loss: 0.9679 - val_accuracy: 0.7690\n",
      "Epoch 80/120\n",
      "313/313 [==============================] - 3s 10ms/step - loss: 0.1248 - accuracy: 0.9547 - val_loss: 0.8782 - val_accuracy: 0.7870\n",
      "Epoch 81/120\n",
      "313/313 [==============================] - 3s 10ms/step - loss: 0.1339 - accuracy: 0.9519 - val_loss: 0.7959 - val_accuracy: 0.7910\n",
      "Epoch 82/120\n",
      "313/313 [==============================] - 3s 10ms/step - loss: 0.1263 - accuracy: 0.9572 - val_loss: 0.8487 - val_accuracy: 0.7910\n",
      "Epoch 83/120\n",
      "313/313 [==============================] - 4s 11ms/step - loss: 0.1339 - accuracy: 0.9529 - val_loss: 0.9510 - val_accuracy: 0.7800\n",
      "Epoch 84/120\n",
      "313/313 [==============================] - 3s 10ms/step - loss: 0.1236 - accuracy: 0.9555 - val_loss: 0.8951 - val_accuracy: 0.7940\n",
      "Epoch 85/120\n",
      "313/313 [==============================] - 3s 10ms/step - loss: 0.1347 - accuracy: 0.9529 - val_loss: 0.9112 - val_accuracy: 0.7800\n",
      "Epoch 86/120\n",
      "313/313 [==============================] - 3s 10ms/step - loss: 0.1293 - accuracy: 0.9539 - val_loss: 0.8602 - val_accuracy: 0.7970\n",
      "Epoch 87/120\n",
      "313/313 [==============================] - 3s 10ms/step - loss: 0.1276 - accuracy: 0.9553 - val_loss: 0.9214 - val_accuracy: 0.7790\n",
      "Epoch 88/120\n",
      "313/313 [==============================] - 3s 11ms/step - loss: 0.1273 - accuracy: 0.9547 - val_loss: 0.8794 - val_accuracy: 0.7900\n",
      "Epoch 89/120\n",
      "313/313 [==============================] - 3s 10ms/step - loss: 0.1287 - accuracy: 0.9554 - val_loss: 0.8565 - val_accuracy: 0.7760\n",
      "Epoch 90/120\n",
      "313/313 [==============================] - 3s 10ms/step - loss: 0.1257 - accuracy: 0.9539 - val_loss: 0.8318 - val_accuracy: 0.7810\n",
      "Epoch 91/120\n",
      "313/313 [==============================] - 3s 10ms/step - loss: 0.1200 - accuracy: 0.9583 - val_loss: 0.8778 - val_accuracy: 0.7910\n",
      "Epoch 92/120\n",
      "313/313 [==============================] - 3s 10ms/step - loss: 0.1274 - accuracy: 0.9532 - val_loss: 0.8926 - val_accuracy: 0.7940\n",
      "Epoch 93/120\n",
      "313/313 [==============================] - 3s 11ms/step - loss: 0.1232 - accuracy: 0.9584 - val_loss: 1.0031 - val_accuracy: 0.7870\n",
      "Epoch 94/120\n",
      "313/313 [==============================] - 3s 10ms/step - loss: 0.1308 - accuracy: 0.9548 - val_loss: 0.8370 - val_accuracy: 0.7910\n",
      "Epoch 95/120\n",
      "313/313 [==============================] - 3s 10ms/step - loss: 0.1242 - accuracy: 0.9559 - val_loss: 0.8439 - val_accuracy: 0.7760\n",
      "Epoch 96/120\n",
      "313/313 [==============================] - 3s 10ms/step - loss: 0.1255 - accuracy: 0.9573 - val_loss: 0.8000 - val_accuracy: 0.7930\n",
      "Epoch 97/120\n",
      "313/313 [==============================] - 3s 11ms/step - loss: 0.1262 - accuracy: 0.9566 - val_loss: 0.8120 - val_accuracy: 0.7780\n",
      "Epoch 98/120\n",
      "313/313 [==============================] - 3s 11ms/step - loss: 0.1287 - accuracy: 0.9553 - val_loss: 0.8145 - val_accuracy: 0.7940\n",
      "Epoch 99/120\n",
      "313/313 [==============================] - 4s 11ms/step - loss: 0.1202 - accuracy: 0.9578 - val_loss: 0.8977 - val_accuracy: 0.7910\n",
      "Epoch 100/120\n",
      "313/313 [==============================] - 3s 11ms/step - loss: 0.1174 - accuracy: 0.9592 - val_loss: 0.9481 - val_accuracy: 0.7850\n",
      "Epoch 101/120\n",
      "313/313 [==============================] - 3s 11ms/step - loss: 0.1266 - accuracy: 0.9560 - val_loss: 0.8682 - val_accuracy: 0.7820\n",
      "Epoch 102/120\n",
      "313/313 [==============================] - 4s 11ms/step - loss: 0.1205 - accuracy: 0.9565 - val_loss: 0.8423 - val_accuracy: 0.7920\n",
      "Epoch 103/120\n",
      "313/313 [==============================] - 3s 11ms/step - loss: 0.1233 - accuracy: 0.9567 - val_loss: 0.9679 - val_accuracy: 0.7760\n",
      "Epoch 104/120\n",
      "313/313 [==============================] - 3s 10ms/step - loss: 0.1241 - accuracy: 0.9572 - val_loss: 0.8114 - val_accuracy: 0.7870\n",
      "Epoch 105/120\n",
      "313/313 [==============================] - 3s 11ms/step - loss: 0.1178 - accuracy: 0.9608 - val_loss: 0.8799 - val_accuracy: 0.7850\n",
      "Epoch 106/120\n",
      "313/313 [==============================] - 3s 11ms/step - loss: 0.1150 - accuracy: 0.9586 - val_loss: 0.9301 - val_accuracy: 0.7900\n",
      "Epoch 107/120\n",
      "313/313 [==============================] - 4s 11ms/step - loss: 0.1146 - accuracy: 0.9605 - val_loss: 0.9408 - val_accuracy: 0.7860\n",
      "Epoch 108/120\n",
      "313/313 [==============================] - 3s 11ms/step - loss: 0.1184 - accuracy: 0.9600 - val_loss: 0.9269 - val_accuracy: 0.7910\n",
      "Epoch 109/120\n",
      "313/313 [==============================] - 3s 10ms/step - loss: 0.1216 - accuracy: 0.9590 - val_loss: 0.9568 - val_accuracy: 0.7960\n",
      "Epoch 110/120\n",
      "313/313 [==============================] - 3s 11ms/step - loss: 0.1193 - accuracy: 0.9602 - val_loss: 0.8364 - val_accuracy: 0.7860\n",
      "Epoch 111/120\n",
      "313/313 [==============================] - 3s 11ms/step - loss: 0.1088 - accuracy: 0.9625 - val_loss: 0.9940 - val_accuracy: 0.7930\n",
      "Epoch 112/120\n",
      "313/313 [==============================] - 4s 11ms/step - loss: 0.1184 - accuracy: 0.9566 - val_loss: 0.8870 - val_accuracy: 0.7900\n",
      "Epoch 113/120\n"
     ]
    },
    {
     "name": "stdout",
     "output_type": "stream",
     "text": [
      "313/313 [==============================] - 3s 10ms/step - loss: 0.1100 - accuracy: 0.9602 - val_loss: 0.9730 - val_accuracy: 0.7800\n",
      "Epoch 114/120\n",
      "313/313 [==============================] - 3s 10ms/step - loss: 0.1201 - accuracy: 0.9590 - val_loss: 0.9501 - val_accuracy: 0.7830\n",
      "Epoch 115/120\n",
      "313/313 [==============================] - 3s 10ms/step - loss: 0.1151 - accuracy: 0.9610 - val_loss: 1.0229 - val_accuracy: 0.7750\n",
      "Epoch 116/120\n",
      "313/313 [==============================] - 3s 11ms/step - loss: 0.1184 - accuracy: 0.9610 - val_loss: 0.9498 - val_accuracy: 0.7870\n",
      "Epoch 117/120\n",
      "313/313 [==============================] - 4s 11ms/step - loss: 0.1071 - accuracy: 0.9615 - val_loss: 0.9400 - val_accuracy: 0.7910\n",
      "Epoch 118/120\n",
      "313/313 [==============================] - 3s 11ms/step - loss: 0.1124 - accuracy: 0.9607 - val_loss: 0.9897 - val_accuracy: 0.7910\n",
      "Epoch 119/120\n",
      "313/313 [==============================] - 3s 11ms/step - loss: 0.1024 - accuracy: 0.9628 - val_loss: 0.9785 - val_accuracy: 0.7930\n",
      "Epoch 120/120\n",
      "313/313 [==============================] - 3s 11ms/step - loss: 0.1169 - accuracy: 0.9589 - val_loss: 0.9297 - val_accuracy: 0.7840\n"
     ]
    }
   ],
   "source": [
    "# train\n",
    "history = model.fit([inputs_train, queries_train], answers_train,batch_size=32,epochs=120,validation_data=([inputs_test, queries_test], answers_test))"
   ]
  },
  {
   "cell_type": "markdown",
   "metadata": {},
   "source": [
    "### Saving the Model"
   ]
  },
  {
   "cell_type": "code",
   "execution_count": 63,
   "metadata": {},
   "outputs": [],
   "source": [
    "filename = 'chatbot_120_epochs.h5'\n",
    "model.save(filename)"
   ]
  },
  {
   "cell_type": "markdown",
   "metadata": {},
   "source": [
    "## Evaluating the Model\n",
    "\n",
    "### Plotting Out Training History"
   ]
  },
  {
   "cell_type": "code",
   "execution_count": 66,
   "metadata": {},
   "outputs": [
    {
     "name": "stdout",
     "output_type": "stream",
     "text": [
      "dict_keys(['loss', 'accuracy', 'val_loss', 'val_accuracy'])\n"
     ]
    },
    {
     "data": {
      "image/png": "[encoded data removed]",
      "text/plain": [
       "<Figure size 640x480 with 1 Axes>"
      ]
     },
     "metadata": {},
     "output_type": "display_data"
    }
   ],
   "source": [
    "import matplotlib.pyplot as plt\n",
    "%matplotlib inline\n",
    "print(history.history.keys())\n",
    "# summarize history for accuracy\n",
    "plt.plot(history.history['accuracy'])\n",
    "plt.plot(history.history['val_accuracy'])\n",
    "plt.title('model accuracy')\n",
    "plt.ylabel('accuracy')\n",
    "plt.xlabel('epoch')\n",
    "plt.legend(['train', 'test'], loc='upper left')\n",
    "plt.show()"
   ]
  },
  {
   "cell_type": "markdown",
   "metadata": {},
   "source": [
    "### Evaluating on Given Test Set"
   ]
  },
  {
   "cell_type": "code",
   "execution_count": 67,
   "metadata": {},
   "outputs": [
    {
     "name": "stdout",
     "output_type": "stream",
     "text": [
      "32/32 [==============================] - 1s 5ms/step\n"
     ]
    }
   ],
   "source": [
    "model.load_weights(filename)\n",
    "pred_results = model.predict(([inputs_test, queries_test]))"
   ]
  },
  {
   "cell_type": "code",
   "execution_count": 68,
   "metadata": {},
   "outputs": [
    {
     "data": {
      "text/plain": [
       "['Mary',\n",
       " 'got',\n",
       " 'the',\n",
       " 'milk',\n",
       " 'there',\n",
       " '.',\n",
       " 'John',\n",
       " 'moved',\n",
       " 'to',\n",
       " 'the',\n",
       " 'bedroom',\n",
       " '.']"
      ]
     },
     "execution_count": 68,
     "metadata": {},
     "output_type": "execute_result"
    }
   ],
   "source": [
    "test_data[0][0]"
   ]
  },
  {
   "cell_type": "code",
   "execution_count": 69,
   "metadata": {},
   "outputs": [
    {
     "name": "stdout",
     "output_type": "stream",
     "text": [
      "Mary got the milk there . John moved to the bedroom .\n"
     ]
    }
   ],
   "source": [
    "story =' '.join(word for word in test_data[0][0])\n",
    "print(story)"
   ]
  },
  {
   "cell_type": "code",
   "execution_count": 70,
   "metadata": {},
   "outputs": [
    {
     "name": "stdout",
     "output_type": "stream",
     "text": [
      "Is John in the kitchen ?\n"
     ]
    }
   ],
   "source": [
    "query = ' '.join(word for word in test_data[0][1])\n",
    "print(query)"
   ]
  },
  {
   "cell_type": "code",
   "execution_count": 71,
   "metadata": {},
   "outputs": [
    {
     "name": "stdout",
     "output_type": "stream",
     "text": [
      "True Test Answer from Data is: no\n"
     ]
    }
   ],
   "source": [
    "print(\"True Test Answer from Data is:\",test_data[0][2])"
   ]
  },
  {
   "cell_type": "code",
   "execution_count": 72,
   "metadata": {},
   "outputs": [
    {
     "name": "stdout",
     "output_type": "stream",
     "text": [
      "Predicted answer is:  no\n",
      "Probability of certainty was:  0.99999094\n"
     ]
    }
   ],
   "source": [
    "#Generate prediction from model\n",
    "val_max = np.argmax(pred_results[0])\n",
    "\n",
    "for key, val in tokenizer.word_index.items():\n",
    "    if val == val_max:\n",
    "        k = key\n",
    "\n",
    "print(\"Predicted answer is: \", k)\n",
    "print(\"Probability of certainty was: \", pred_results[0][val_max])"
   ]
  },
  {
   "cell_type": "markdown",
   "metadata": {},
   "source": [
    "## Writing Your Own Stories and Questions\n",
    "\n",
    "Remember you can only use words from the existing vocab"
   ]
  },
  {
   "cell_type": "code",
   "execution_count": 73,
   "metadata": {},
   "outputs": [
    {
     "data": {
      "text/plain": [
       "{'.',\n",
       " '?',\n",
       " 'Daniel',\n",
       " 'Is',\n",
       " 'John',\n",
       " 'Mary',\n",
       " 'Sandra',\n",
       " 'apple',\n",
       " 'back',\n",
       " 'bathroom',\n",
       " 'bedroom',\n",
       " 'discarded',\n",
       " 'down',\n",
       " 'dropped',\n",
       " 'football',\n",
       " 'garden',\n",
       " 'got',\n",
       " 'grabbed',\n",
       " 'hallway',\n",
       " 'in',\n",
       " 'journeyed',\n",
       " 'kitchen',\n",
       " 'left',\n",
       " 'milk',\n",
       " 'moved',\n",
       " 'no',\n",
       " 'office',\n",
       " 'picked',\n",
       " 'put',\n",
       " 'the',\n",
       " 'there',\n",
       " 'to',\n",
       " 'took',\n",
       " 'travelled',\n",
       " 'up',\n",
       " 'went',\n",
       " 'yes'}"
      ]
     },
     "execution_count": 73,
     "metadata": {},
     "output_type": "execute_result"
    }
   ],
   "source": [
    "vocab"
   ]
  },
  {
   "cell_type": "code",
   "execution_count": 74,
   "metadata": {},
   "outputs": [
    {
     "data": {
      "text/plain": [
       "['John',\n",
       " 'left',\n",
       " 'the',\n",
       " 'kitchen',\n",
       " '.',\n",
       " 'Sandra',\n",
       " 'dropped',\n",
       " 'the',\n",
       " 'football',\n",
       " 'in',\n",
       " 'the',\n",
       " 'garden',\n",
       " '.']"
      ]
     },
     "execution_count": 74,
     "metadata": {},
     "output_type": "execute_result"
    }
   ],
   "source": [
    "# Note the whitespace of the periods\n",
    "my_story = \"John left the kitchen . Sandra dropped the football in the garden .\"\n",
    "my_story.split()"
   ]
  },
  {
   "cell_type": "code",
   "execution_count": 75,
   "metadata": {},
   "outputs": [],
   "source": [
    "my_question = \"Is the football in the garden ?\""
   ]
  },
  {
   "cell_type": "code",
   "execution_count": 76,
   "metadata": {},
   "outputs": [
    {
     "data": {
      "text/plain": [
       "['Is', 'the', 'football', 'in', 'the', 'garden', '?']"
      ]
     },
     "execution_count": 76,
     "metadata": {},
     "output_type": "execute_result"
    }
   ],
   "source": [
    "my_question.split()"
   ]
  },
  {
   "cell_type": "code",
   "execution_count": 77,
   "metadata": {},
   "outputs": [],
   "source": [
    "mydata = [(my_story.split(),my_question.split(),'yes')]"
   ]
  },
  {
   "cell_type": "code",
   "execution_count": 78,
   "metadata": {},
   "outputs": [],
   "source": [
    "my_story,my_ques,my_ans = vectorize_stories(mydata)"
   ]
  },
  {
   "cell_type": "code",
   "execution_count": 79,
   "metadata": {},
   "outputs": [
    {
     "name": "stdout",
     "output_type": "stream",
     "text": [
      "1/1 [==============================] - 0s 34ms/step\n"
     ]
    }
   ],
   "source": [
    "pred_results = model.predict(([ my_story, my_ques])) #give probability of all results"
   ]
  },
  {
   "cell_type": "code",
   "execution_count": 80,
   "metadata": {},
   "outputs": [
    {
     "name": "stdout",
     "output_type": "stream",
     "text": [
      "Predicted answer is:  yes\n",
      "Probability of certainty was:  0.9448132\n"
     ]
    }
   ],
   "source": [
    "#Generate prediction from model\n",
    "val_max = np.argmax(pred_results[0])#choose max probability\n",
    "\n",
    "for key, val in tokenizer.word_index.items():\n",
    "    if val == val_max:\n",
    "        k = key\n",
    "\n",
    "print(\"Predicted answer is: \", k)\n",
    "print(\"Probability of certainty was: \", pred_results[0][val_max])"
   ]
  },
  {
   "cell_type": "markdown",
   "metadata": {},
   "source": [
    "# Great Job!"
   ]
  },
  {
   "cell_type": "code",
   "execution_count": null,
   "metadata": {},
   "outputs": [],
   "source": []
  }
 ],
 "metadata": {
  "kernelspec": {
   "display_name": "Python 3 (ipykernel)",
   "language": "python",
   "name": "python3"
  },
  "language_info": {
   "codemirror_mode": {
    "name": "ipython",
    "version": 3
   },
   "file_extension": ".py",
   "mimetype": "text/x-python",
   "name": "python",
   "nbconvert_exporter": "python",
   "pygments_lexer": "ipython3",
   "version": "3.9.7"
  }
 },
 "nbformat": 4,
 "nbformat_minor": 2
}
