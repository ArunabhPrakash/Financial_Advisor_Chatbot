{
 "cells": [
  {
   "cell_type": "code",
   "execution_count": 1,
   "id": "2d35ec8f",
   "metadata": {},
   "outputs": [],
   "source": [
    "from tensorflow.keras.preprocessing.sequence import pad_sequences\n",
    "from keras.preprocessing.text import Tokenizer "
   ]
  },
  {
   "cell_type": "code",
   "execution_count": 2,
   "id": "e0197ec2",
   "metadata": {},
   "outputs": [],
   "source": [
    "my_input_para = \"Revenue from Operations is 70,727. Other income is 669. Operating EBITDA is 19,259. EBITDA Margin is 27.2%. Depreciation and Amortisation Expense is 3,781. Finance Costs is 3,565. Profit before  Exceptional Items is 12,582. Exceptional Items is 12,582. Tax Expense/(Credit) is 3,803. PAT is 8,393. Earning Per Share (diluted) (I) is 34.72.\""
   ]
  },
  {
   "cell_type": "code",
   "execution_count": 3,
   "id": "add9dd7c",
   "metadata": {},
   "outputs": [
    {
     "name": "stdout",
     "output_type": "stream",
     "text": [
      "Revenue from Operations is 70,727. Other income is 669. Operating EBITDA is 19,259. EBITDA Margin is 27.2%. Depreciation and Amortisation Expense is 3,781. Finance Costs is 3,565. Profit before  Exceptional Items is 12,582. Exceptional Items is 12,582. Tax Expense/(Credit) is 3,803. PAT is 8,393. Earning Per Share (diluted) (I) is 34.72.\n"
     ]
    }
   ],
   "source": [
    "print(my_input_para)"
   ]
  },
  {
   "cell_type": "code",
   "execution_count": 4,
   "id": "e119a726",
   "metadata": {},
   "outputs": [],
   "source": [
    "my_input_data=my_input_para.split()"
   ]
  },
  {
   "cell_type": "code",
   "execution_count": 5,
   "id": "5d371206",
   "metadata": {},
   "outputs": [
    {
     "data": {
      "text/plain": [
       "['Revenue',\n",
       " 'from',\n",
       " 'Operations',\n",
       " 'is',\n",
       " '70,727.',\n",
       " 'Other',\n",
       " 'income',\n",
       " 'is',\n",
       " '669.',\n",
       " 'Operating',\n",
       " 'EBITDA',\n",
       " 'is',\n",
       " '19,259.',\n",
       " 'EBITDA',\n",
       " 'Margin',\n",
       " 'is',\n",
       " '27.2%.',\n",
       " 'Depreciation',\n",
       " 'and',\n",
       " 'Amortisation',\n",
       " 'Expense',\n",
       " 'is',\n",
       " '3,781.',\n",
       " 'Finance',\n",
       " 'Costs',\n",
       " 'is',\n",
       " '3,565.',\n",
       " 'Profit',\n",
       " 'before',\n",
       " 'Exceptional',\n",
       " 'Items',\n",
       " 'is',\n",
       " '12,582.',\n",
       " 'Exceptional',\n",
       " 'Items',\n",
       " 'is',\n",
       " '12,582.',\n",
       " 'Tax',\n",
       " 'Expense/(Credit)',\n",
       " 'is',\n",
       " '3,803.',\n",
       " 'PAT',\n",
       " 'is',\n",
       " '8,393.',\n",
       " 'Earning',\n",
       " 'Per',\n",
       " 'Share',\n",
       " '(diluted)',\n",
       " '(I)',\n",
       " 'is',\n",
       " '34.72.']"
      ]
     },
     "execution_count": 5,
     "metadata": {},
     "output_type": "execute_result"
    }
   ],
   "source": [
    "my_input_data #vocabulary"
   ]
  },
  {
   "cell_type": "code",
   "execution_count": 6,
   "id": "e5fd2f5b",
   "metadata": {},
   "outputs": [],
   "source": [
    "import pickle #Pickle in Python is primarily used in serializing and deserializing a Python object structure. In other words, it's the process of converting a Python object into a byte stream to store it in a file/database, maintain program state across sessions, or transport data over the network.\n",
    "import numpy as np"
   ]
  },
  {
   "cell_type": "code",
   "execution_count": 7,
   "id": "d0bf2e96",
   "metadata": {},
   "outputs": [],
   "source": [
    "tokenizer = Tokenizer(filters=[])\n",
    "tokenizer.fit_on_texts(my_input_data)\n"
   ]
  },
  {
   "cell_type": "code",
   "execution_count": 8,
   "id": "bc7c27a1",
   "metadata": {},
   "outputs": [
    {
     "data": {
      "text/plain": [
       "{'is': 1,\n",
       " 'ebitda': 2,\n",
       " 'exceptional': 3,\n",
       " 'items': 4,\n",
       " '12,582.': 5,\n",
       " 'revenue': 6,\n",
       " 'from': 7,\n",
       " 'operations': 8,\n",
       " '70,727.': 9,\n",
       " 'other': 10,\n",
       " 'income': 11,\n",
       " '669.': 12,\n",
       " 'operating': 13,\n",
       " '19,259.': 14,\n",
       " 'margin': 15,\n",
       " '27.2%.': 16,\n",
       " 'depreciation': 17,\n",
       " 'and': 18,\n",
       " 'amortisation': 19,\n",
       " 'expense': 20,\n",
       " '3,781.': 21,\n",
       " 'finance': 22,\n",
       " 'costs': 23,\n",
       " '3,565.': 24,\n",
       " 'profit': 25,\n",
       " 'before': 26,\n",
       " 'tax': 27,\n",
       " 'expense/(credit)': 28,\n",
       " '3,803.': 29,\n",
       " 'pat': 30,\n",
       " '8,393.': 31,\n",
       " 'earning': 32,\n",
       " 'per': 33,\n",
       " 'share': 34,\n",
       " '(diluted)': 35,\n",
       " '(i)': 36,\n",
       " '34.72.': 37}"
      ]
     },
     "execution_count": 8,
     "metadata": {},
     "output_type": "execute_result"
    }
   ],
   "source": [
    "tokenizer.word_index #created tokens from vocabulary"
   ]
  },
  {
   "cell_type": "code",
   "execution_count": 18,
   "id": "c446e726",
   "metadata": {},
   "outputs": [],
   "source": [
    "#\" . . .     .  \"\n",
    "mit_RFO=\"Revenue from Operations is 70,727.\"#take all topics as small stories\n",
    "mit_OI=\"Other income is 669.\"\n",
    "mit_OE=\"Operating EBITDA is 19,259.\"\n",
    "mit_EBITDAM=\"EBITDA Margin is 27.2%.\"\n",
    "mit_DAE=\"Depreciation and Amortisation Expense is 3,781.\"\n",
    "mit_FC=\"Finance Costs is 3,565.\"\n",
    "mit_PBEI=\"Profit before  Exceptional Items is 12,582.\"\n",
    "mit_EI=\"Exceptional Items is 12,582.\"\n",
    "mit_TE=\"Tax Expense/(Credit) is 3,803.\"\n",
    "mit_PAT=\"PAT is 8,393.\"\n",
    "mit_EPS=\"Earning Per Share (diluted) (I) is 34.72.\""
   ]
  },
  {
   "cell_type": "code",
   "execution_count": 29,
   "id": "85e2f03e",
   "metadata": {},
   "outputs": [
    {
     "name": "stdout",
     "output_type": "stream",
     "text": [
      "Revenue from Operations is 70,727. \n",
      " Other income is 669. Operating EBITDA is 19,259.  \n",
      " EBITDA Margin is 27.2%. \n",
      "  Depreciation and Amortisation Expense is 3,781. \n",
      "  Finance Costs is 3,565. \n",
      "  Profit before  Exceptional Items is 12,582. \n",
      "  Exceptional Items is 12,582.  \n",
      " Tax Expense/(Credit) is 3,803.  \n",
      " PAT is 8,393.  \n",
      " Earning Per Share (diluted) (I) is 34.72.\n"
     ]
    }
   ],
   "source": [
    "print(mit_RFO,\"\\n\",mit_OI,mit_OE,\" \\n\",mit_EBITDAM,\"\\n \", mit_DAE,\"\\n \",mit_FC,\"\\n \",mit_PBEI,\"\\n \",mit_EI,\" \\n\",mit_TE,\" \\n\",mit_PAT,\" \\n\",mit_EPS)"
   ]
  },
  {
   "cell_type": "code",
   "execution_count": 19,
   "id": "99638339",
   "metadata": {},
   "outputs": [
    {
     "name": "stdout",
     "output_type": "stream",
     "text": [
      "What is Revenue from Operations?\n"
     ]
    }
   ],
   "source": [
    "#ask user to select a key financial paramter first, this will select small story then take in the query.\n",
    "query=\"What is Revenue from Operations?\"\n",
    "print(query)"
   ]
  },
  {
   "cell_type": "code",
   "execution_count": 20,
   "id": "4fedbc63",
   "metadata": {},
   "outputs": [],
   "source": [
    "myquerydata = [(mit_RFO.split(),query.split())]"
   ]
  },
  {
   "cell_type": "code",
   "execution_count": null,
   "id": "11a37c17",
   "metadata": {},
   "outputs": [],
   "source": [
    "my_story,my_ques= vectorize_stories(myquerydata)\n"
   ]
  },
  {
   "cell_type": "code",
   "execution_count": 22,
   "id": "3a74d0c9",
   "metadata": {},
   "outputs": [
    {
     "name": "stdout",
     "output_type": "stream",
     "text": [
      "predicted answer is: 70,727\n"
     ]
    }
   ],
   "source": [
    "pred_results = model.predict(([ my_story, my_ques]))\n",
    "#Generate prediction from model\n",
    "val_max = np.argmax(pred_results[0])#choose max probability\n",
    "\n",
    "for key, val in tokenizer.word_index.items():\n",
    "    if val == val_max:\n",
    "        k = key\n",
    "\n",
    "print(\"predicted answer is: \", k)\n"
   ]
  },
  {
   "cell_type": "code",
   "execution_count": null,
   "id": "49fe2a76",
   "metadata": {},
   "outputs": [],
   "source": []
  }
 ],
 "metadata": {
  "kernelspec": {
   "display_name": "Python 3 (ipykernel)",
   "language": "python",
   "name": "python3"
  },
  "language_info": {
   "codemirror_mode": {
    "name": "ipython",
    "version": 3
   },
   "file_extension": ".py",
   "mimetype": "text/x-python",
   "name": "python",
   "nbconvert_exporter": "python",
   "pygments_lexer": "ipython3",
   "version": "3.9.7"
  }
 },
 "nbformat": 4,
 "nbformat_minor": 5
}
